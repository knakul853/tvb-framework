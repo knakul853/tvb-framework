{
 "cells": [
  {
   "cell_type": "code",
   "execution_count": 1,
   "metadata": {},
   "outputs": [
    {
     "name": "stdout",
     "output_type": "stream",
     "text": [
      "   INFO  log level set to INFO\n"
     ]
    }
   ],
   "source": [
    "from tvb.simulator.lab import *"
   ]
  },
  {
   "cell_type": "code",
   "execution_count": 8,
   "metadata": {},
   "outputs": [],
   "source": [
    "oscilator = models.Generic2dOscillator()"
   ]
  },
  {
   "cell_type": "code",
   "execution_count": 11,
   "metadata": {},
   "outputs": [
    {
     "name": "stdout",
     "output_type": "stream",
     "text": [
      "WARNING  File 'hemispheres' not found in ZIP.\n"
     ]
    }
   ],
   "source": [
    "import numpy\n",
    "white_matter = connectivity.Connectivity(load_default=True)\n",
    "white_matter.speed = numpy.array([4.0])"
   ]
  },
  {
   "cell_type": "code",
   "execution_count": 12,
   "metadata": {},
   "outputs": [],
   "source": [
    "white_matter_coupling = coupling.Linear(a=0.0154)"
   ]
  },
  {
   "cell_type": "code",
   "execution_count": 13,
   "metadata": {},
   "outputs": [],
   "source": [
    "heunint = integrators.HeunDeterministic(dt=2**-6)"
   ]
  },
  {
   "cell_type": "code",
   "execution_count": 14,
   "metadata": {},
   "outputs": [],
   "source": [
    "#Initialise some Monitors with period in physical time\n",
    "mon_raw = monitors.Raw()\n",
    "mon_tavg = monitors.TemporalAverage(period=2**-2)\n",
    "\n",
    "#Bundle them\n",
    "what_to_watch = (mon_raw, mon_tavg)\n",
    "\n"
   ]
  },
  {
   "cell_type": "code",
   "execution_count": 15,
   "metadata": {},
   "outputs": [
    {
     "data": {
      "text/html": [
       "<table width=100%><tr><th>Parameter</th><th>Value</th><th>Description</th></tr><tr><td>initial_conditions</td><td>None</td><td>Initial conditions from which the simulation will begin. By\n",
       "        default, random initial conditions are provided. Needs to be the same shape\n",
       "        as simulator 'history', ie, initial history function which defines the \n",
       "        minimal initial state of the network with time delays before time t=0. \n",
       "        If the number of time points in the provided array is insufficient the \n",
       "        array will be padded with random values based on the 'state_variables_range'\n",
       "        attribute.</td></tr><tr><td>coupling</td><td>Linear(a=0.0154, b=0)</td><td>The coupling function is applied to the activity propagated\n",
       "        between regions by the ``Long-range connectivity`` before it enters the local\n",
       "        dynamic equations of the Model. Its primary purpose is to 'rescale' the\n",
       "        incoming activity to a level appropriate to Model.</td></tr><tr><td>stimulus</td><td>None</td><td>A ``Spatiotemporal stimulus`` can be defined at the region or surface level.\n",
       "        It's composed of spatial and temporal components. For region defined stimuli\n",
       "        the spatial component is just the strength with which the temporal\n",
       "        component is applied to each region. For surface defined stimuli,  a\n",
       "        (spatial) function, with finite-support, is used to define the strength \n",
       "        of the stimuli on the surface centred around one or more focal points. \n",
       "        In the current version of TVB, stimuli are applied to the first state \n",
       "        variable of the ``Local dynamic model``.</td></tr><tr><td>integrator</td><td>HeunDeterministic(dt=0.015625)</td><td>A tvb.simulator.Integrator object which is\n",
       "            an integration scheme with supporting attributes such as \n",
       "            integration step size and noise specification for stochastic \n",
       "            methods. It is used to compute the time courses of the model state \n",
       "            variables.</td></tr><tr><td>surface</td><td>None</td><td>By default, a Cortex object which represents the\n",
       "        cortical surface defined by points in the 3D physical space and their \n",
       "        neighborhood relationship. In the current TVB version, when setting up a \n",
       "        surface-based simulation, the option to configure the spatial spread of \n",
       "        the ``Local Connectivity`` is available.</td></tr><tr><td>connectivity</td><td>Connectivity(bound=False, value=None)</td><td>A tvb.datatypes.Connectivity object which contains the\n",
       "        structural long-range connectivity data (i.e., white-matter tracts). In\n",
       "        combination with the ``Long-range coupling function`` it defines the inter-regional\n",
       "        connections. These couplings undergo a time delay via signal propagation \n",
       "        with a propagation speed of ``Conduction Speed``</td></tr><tr><td>conduction_speed</td><td>3.0</td><td>Conduction speed for ``Long-range connectivity`` (mm/ms)</td></tr><tr><td>simulation_length</td><td>1000.0</td><td>The length of a simulation (default in milliseconds).</td></tr><tr><td>model</td><td>Generic2dOscillator(bound=False, value=None)</td><td>A tvb.simulator.Model object which describe the local dynamic\n",
       "        equations, their parameters, and, to some extent, where connectivity\n",
       "        (local and long-range) enters and which state-variables the Monitors\n",
       "        monitor. By default the 'Generic2dOscillator' model is used. Read the \n",
       "        Scientific documentation to learn more about this model.</td></tr><tr><td>monitors</td><td>(Raw(bound=False, value=None), TemporalAverage(bound=False, value=None))</td><td>A tvb.simulator.Monitor or a list of tvb.simulator.Monitor\n",
       "        objects that 'know' how to record relevant data from the simulation. Two\n",
       "        main types exist: 1) simple, spatial and temporal, reductions (subsets\n",
       "        or averages); 2) physiological measurements, such as EEG, MEG and fMRI.\n",
       "        By default the Model's specified variables_of_interest are returned,\n",
       "        temporally downsampled from the raw integration rate to a sample rate of\n",
       "        1024Hz.</td></tr>"
      ],
      "text/plain": [
       "Simulator(bound=False, value=None)"
      ]
     },
     "execution_count": 15,
     "metadata": {},
     "output_type": "execute_result"
    }
   ],
   "source": [
    "#Initialise a Simulator -- Model, Connectivity, Integrator, and Monitors.\n",
    "sim = simulator.Simulator(model = oscilator, connectivity = white_matter,\n",
    "                          coupling = white_matter_coupling, \n",
    "                          integrator = heunint, monitors = what_to_watch)\n",
    "\n",
    "sim.configure()"
   ]
  },
  {
   "cell_type": "code",
   "execution_count": 16,
   "metadata": {},
   "outputs": [],
   "source": [
    "#Perform the simulation\n",
    "raw_data = []\n",
    "raw_time = []\n",
    "tavg_data = []\n",
    "tavg_time = []\n",
    "\n",
    "for raw, tavg in sim(simulation_length=2**10):\n",
    "    if not raw is None:\n",
    "        raw_time.append(raw[0])\n",
    "        raw_data.append(raw[1])\n",
    "    \n",
    "    if not tavg is None:\n",
    "        tavg_time.append(tavg[0])\n",
    "        tavg_data.append(tavg[1])"
   ]
  },
  {
   "cell_type": "code",
   "execution_count": 17,
   "metadata": {},
   "outputs": [],
   "source": [
    "\n",
    "\n",
    "#Make the lists numpy.arrays for easier use.\n",
    "RAW = numpy.array(raw_data)\n",
    "TAVG = numpy.array(tavg_data)\n",
    "\n"
   ]
  },
  {
   "cell_type": "code",
   "execution_count": 25,
   "metadata": {},
   "outputs": [
    {
     "data": {
      "image/png": "[encoded data removed]",
      "text/plain": [
       "<Figure size 432x288 with 1 Axes>"
      ]
     },
     "metadata": {
      "needs_background": "light"
     },
     "output_type": "display_data"
    },
    {
     "data": {
      "image/png": "[encoded data removed]",
      "text/plain": [
       "<Figure size 432x288 with 1 Axes>"
      ]
     },
     "metadata": {
      "needs_background": "light"
     },
     "output_type": "display_data"
    }
   ],
   "source": [
    "import matplotlib.pyplot as plt\n",
    "#Plot raw time series\n",
    "#figure(1)\n",
    "plt.plot(raw_time, RAW[:, 0, :, 0])\n",
    "plt.title(\"Raw -- State variable 0\")\n",
    "#Show them\n",
    "plt.show()\n",
    "#Plot temporally averaged time series\n",
    "#figure(2)\n",
    "plt.plot(tavg_time, TAVG[:, 0, :, 0])\n",
    "plt.title(\"Temporal average\")\n",
    "\n",
    "#Show them\n",
    "plt.show()\n",
    "\n"
   ]
  },
  {
   "cell_type": "markdown",
   "metadata": {},
   "source": [
    "## Surface simulation tutorial"
   ]
  },
  {
   "cell_type": "code",
   "execution_count": 26,
   "metadata": {},
   "outputs": [],
   "source": [
    "#Import a bunch of stuff to ease command line usage\n",
    "from tvb.simulator.lab import *"
   ]
  },
  {
   "cell_type": "code",
   "execution_count": 27,
   "metadata": {},
   "outputs": [
    {
     "name": "stdout",
     "output_type": "stream",
     "text": [
      "WARNING  File 'hemispheres' not found in ZIP.\n"
     ]
    }
   ],
   "source": [
    "#Initialise a Model, Coupling, and Connectivity.\n",
    "oscillator = models.Generic2dOscillator()\n",
    "white_matter = connectivity.Connectivity(load_default=True)\n",
    "white_matter.speed = numpy.array([4.0])\n",
    "\n",
    "white_matter_coupling = coupling.Linear(a=0.014)\n",
    "\n",
    "#Initialise an Integrator\n",
    "heunint = integrators.HeunDeterministic(dt=2**-4)"
   ]
  },
  {
   "cell_type": "code",
   "execution_count": 28,
   "metadata": {},
   "outputs": [],
   "source": [
    "#Initialise a surface\n",
    "default_cortex = cortex.Cortex(load_default=True)\n",
    "default_cortex.coupling_strength = numpy.array([2**-10])"
   ]
  },
  {
   "cell_type": "code",
   "execution_count": 29,
   "metadata": {},
   "outputs": [],
   "source": [
    "#Initialise some Monitors with period in physical time\n",
    "mon_tavg = monitors.TemporalAverage(period=2**-2)\n",
    "mon_savg = monitors.SpatialAverage(period=2**-2)\n",
    "# load the default region mapping\n",
    "rm = region_mapping.RegionMapping(load_default=True)\n",
    "mon_eeg = monitors.EEG(load_default=True, region_mapping=rm)\n",
    "#Bundle them\n",
    "what_to_watch = (mon_tavg, mon_savg, mon_eeg)"
   ]
  },
  {
   "cell_type": "code",
   "execution_count": 30,
   "metadata": {},
   "outputs": [
    {
     "name": "stdout",
     "output_type": "stream",
     "text": [
      "WARNING  Memory estimate exceeds total available RAM.\n"
     ]
    },
    {
     "data": {
      "text/html": [
       "<table width=100%><tr><th>Parameter</th><th>Value</th><th>Description</th></tr><tr><td>initial_conditions</td><td>None</td><td>Initial conditions from which the simulation will begin. By\n",
       "        default, random initial conditions are provided. Needs to be the same shape\n",
       "        as simulator 'history', ie, initial history function which defines the \n",
       "        minimal initial state of the network with time delays before time t=0. \n",
       "        If the number of time points in the provided array is insufficient the \n",
       "        array will be padded with random values based on the 'state_variables_range'\n",
       "        attribute.</td></tr><tr><td>coupling</td><td>Linear(a=0.014, b=0)</td><td>The coupling function is applied to the activity propagated\n",
       "        between regions by the ``Long-range connectivity`` before it enters the local\n",
       "        dynamic equations of the Model. Its primary purpose is to 'rescale' the\n",
       "        incoming activity to a level appropriate to Model.</td></tr><tr><td>stimulus</td><td>None</td><td>A ``Spatiotemporal stimulus`` can be defined at the region or surface level.\n",
       "        It's composed of spatial and temporal components. For region defined stimuli\n",
       "        the spatial component is just the strength with which the temporal\n",
       "        component is applied to each region. For surface defined stimuli,  a\n",
       "        (spatial) function, with finite-support, is used to define the strength \n",
       "        of the stimuli on the surface centred around one or more focal points. \n",
       "        In the current version of TVB, stimuli are applied to the first state \n",
       "        variable of the ``Local dynamic model``.</td></tr><tr><td>integrator</td><td>HeunDeterministic(dt=0.0625)</td><td>A tvb.simulator.Integrator object which is\n",
       "            an integration scheme with supporting attributes such as \n",
       "            integration step size and noise specification for stochastic \n",
       "            methods. It is used to compute the time courses of the model state \n",
       "            variables.</td></tr><tr><td>surface</td><td>Cortex(bound=False, value=None)</td><td>By default, a Cortex object which represents the\n",
       "        cortical surface defined by points in the 3D physical space and their \n",
       "        neighborhood relationship. In the current TVB version, when setting up a \n",
       "        surface-based simulation, the option to configure the spatial spread of \n",
       "        the ``Local Connectivity`` is available.</td></tr><tr><td>connectivity</td><td>Connectivity(bound=False, value=None)</td><td>A tvb.datatypes.Connectivity object which contains the\n",
       "        structural long-range connectivity data (i.e., white-matter tracts). In\n",
       "        combination with the ``Long-range coupling function`` it defines the inter-regional\n",
       "        connections. These couplings undergo a time delay via signal propagation \n",
       "        with a propagation speed of ``Conduction Speed``</td></tr><tr><td>conduction_speed</td><td>3.0</td><td>Conduction speed for ``Long-range connectivity`` (mm/ms)</td></tr><tr><td>simulation_length</td><td>1000.0</td><td>The length of a simulation (default in milliseconds).</td></tr><tr><td>model</td><td>Generic2dOscillator(bound=False, value=None)</td><td>A tvb.simulator.Model object which describe the local dynamic\n",
       "        equations, their parameters, and, to some extent, where connectivity\n",
       "        (local and long-range) enters and which state-variables the Monitors\n",
       "        monitor. By default the 'Generic2dOscillator' model is used. Read the \n",
       "        Scientific documentation to learn more about this model.</td></tr><tr><td>monitors</td><td>(TemporalAverage(bound=False, value=None), SpatialAverage(bound=False, value=None), EEG(bound=False, value=None))</td><td>A tvb.simulator.Monitor or a list of tvb.simulator.Monitor\n",
       "        objects that 'know' how to record relevant data from the simulation. Two\n",
       "        main types exist: 1) simple, spatial and temporal, reductions (subsets\n",
       "        or averages); 2) physiological measurements, such as EEG, MEG and fMRI.\n",
       "        By default the Model's specified variables_of_interest are returned,\n",
       "        temporally downsampled from the raw integration rate to a sample rate of\n",
       "        1024Hz.</td></tr>"
      ],
      "text/plain": [
       "Simulator(bound=False, value=None)"
      ]
     },
     "execution_count": 30,
     "metadata": {},
     "output_type": "execute_result"
    }
   ],
   "source": [
    "#Initialise Simulator -- Model, Connectivity, Integrator, Monitors, and surface.\n",
    "sim = simulator.Simulator(model = oscillator, connectivity = white_matter,\n",
    "                          coupling = white_matter_coupling, \n",
    "                          integrator = heunint, monitors = what_to_watch,\n",
    "                          surface = default_cortex)\n",
    "\n",
    "sim.configure()"
   ]
  },
  {
   "cell_type": "code",
   "execution_count": 31,
   "metadata": {},
   "outputs": [],
   "source": [
    "#Perform the simulation\n",
    "tavg_data = []\n",
    "tavg_time = []\n",
    "savg_data = []\n",
    "savg_time = []\n",
    "eeg_data = []\n",
    "eeg_time = []\n",
    "for tavg, savg, eeg in sim(simulation_length=2**2):\n",
    "    if not tavg is None:\n",
    "        tavg_time.append(tavg[0])\n",
    "        tavg_data.append(tavg[1])\n",
    "    \n",
    "    if not savg is None:\n",
    "        savg_time.append(savg[0])\n",
    "        savg_data.append(savg[1])\n",
    "    \n",
    "    if not eeg is None:\n",
    "        eeg_time.append(eeg[0])\n",
    "        eeg_data.append(eeg[1])"
   ]
  },
  {
   "cell_type": "code",
   "execution_count": 34,
   "metadata": {},
   "outputs": [
    {
     "ename": "NameError",
     "evalue": "name 'plot' is not defined",
     "output_type": "error",
     "traceback": [
      "\u001b[0;31m---------------------------------------------------------------------------\u001b[0m",
      "\u001b[0;31mNameError\u001b[0m                                 Traceback (most recent call last)",
      "\u001b[0;32m<ipython-input-34-4a0eb99d270d>\u001b[0m in \u001b[0;36m<module>\u001b[0;34m()\u001b[0m\n\u001b[1;32m      6\u001b[0m \u001b[0;31m#Plot region averaged time series\u001b[0m\u001b[0;34m\u001b[0m\u001b[0;34m\u001b[0m\u001b[0m\n\u001b[1;32m      7\u001b[0m \u001b[0;31m#figure(1)\u001b[0m\u001b[0;34m\u001b[0m\u001b[0;34m\u001b[0m\u001b[0m\n\u001b[0;32m----> 8\u001b[0;31m \u001b[0mplot\u001b[0m\u001b[0;34m(\u001b[0m\u001b[0msavg_time\u001b[0m\u001b[0;34m,\u001b[0m \u001b[0mSAVG\u001b[0m\u001b[0;34m[\u001b[0m\u001b[0;34m:\u001b[0m\u001b[0;34m,\u001b[0m \u001b[0;36m0\u001b[0m\u001b[0;34m,\u001b[0m \u001b[0;34m:\u001b[0m\u001b[0;34m,\u001b[0m \u001b[0;36m0\u001b[0m\u001b[0;34m]\u001b[0m\u001b[0;34m)\u001b[0m\u001b[0;34m\u001b[0m\u001b[0m\n\u001b[0m\u001b[1;32m      9\u001b[0m \u001b[0mtitle\u001b[0m\u001b[0;34m(\u001b[0m\u001b[0;34m\"Region average\"\u001b[0m\u001b[0;34m)\u001b[0m\u001b[0;34m\u001b[0m\u001b[0m\n\u001b[1;32m     10\u001b[0m \u001b[0;34m\u001b[0m\u001b[0m\n",
      "\u001b[0;31mNameError\u001b[0m: name 'plot' is not defined"
     ]
    }
   ],
   "source": [
    "#Make the lists numpy.arrays for easier use.\n",
    "TAVG = numpy.array(tavg_data)\n",
    "SAVG = numpy.array(savg_data)\n",
    "EEG = numpy.array(eeg_data)\n",
    "\n",
    "#Plot region averaged time series\n",
    "#figure(1)\n",
    "plt.plot(savg_time, SAVG[:, 0, :, 0])\n",
    "title(\"Region average\")\n",
    "plt.show()\n",
    "#Plot EEG time series\n",
    "#figure(2)\n",
    "\n",
    "plt.plot(eeg_time, EEG[:, 0, :, 0])\n",
    "title(\"EEG\")\n",
    "\n",
    "#Show them\n",
    "plt.show()"
   ]
  },
  {
   "cell_type": "code",
   "execution_count": null,
   "metadata": {},
   "outputs": [],
   "source": []
  }
 ],
 "metadata": {
  "kernelspec": {
   "display_name": "Python 2",
   "language": "python",
   "name": "python2"
  },
  "language_info": {
   "codemirror_mode": {
    "name": "ipython",
    "version": 2
   },
   "file_extension": ".py",
   "mimetype": "text/x-python",
   "name": "python",
   "nbconvert_exporter": "python",
   "pygments_lexer": "ipython2",
   "version": "2.7.16"
  }
 },
 "nbformat": 4,
 "nbformat_minor": 2
}
